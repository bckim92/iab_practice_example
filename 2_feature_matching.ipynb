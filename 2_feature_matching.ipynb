{
 "cells": [
  {
   "cell_type": "markdown",
   "metadata": {},
   "source": [
    "# [OpenCV-Python Tutorial] Feature Matching\n",
    "\n",
    "In this notebook, we will see how to extract SIFT(Scale-Invariant Feature Transform) and match SIFT features of two images with OpenCV-Python.\n",
    "\n",
    "---"
   ]
  },
  {
   "cell_type": "code",
   "execution_count": null,
   "metadata": {},
   "outputs": [],
   "source": [
    "!pip install opencv-python==3.3.0.10\n",
    "!pip install opencv-contrib-python==3.3.0.10\n",
    "!wget https://raw.githubusercontent.com/bckim92/iab_practice_example/master/images/beaver.png\n",
    "!wget https://raw.githubusercontent.com/bckim92/iab_practice_example/master/images/box.png\n",
    "!wget https://raw.githubusercontent.com/bckim92/iab_practice_example/master/images/box_in_scene.png"
   ]
  },
  {
   "cell_type": "code",
   "execution_count": null,
   "metadata": {},
   "outputs": [],
   "source": [
    "# For python2/3 compatibility\n",
    "from __future__ import absolute_import\n",
    "from __future__ import division\n",
    "from __future__ import print_function\n",
    "\n",
    "import numpy as np\n",
    "import cv2 # OpenCV-Python\n",
    "%matplotlib inline\n",
    "import matplotlib.pyplot as plt\n",
    "import time"
   ]
  },
  {
   "cell_type": "code",
   "execution_count": null,
   "metadata": {},
   "outputs": [],
   "source": [
    "# Load an image\n",
    "beaver = cv2.imread('./beaver.png')\n",
    "plt.imshow(cv2.cvtColor(beaver, cv2.COLOR_BGR2RGB))"
   ]
  },
  {
   "cell_type": "code",
   "execution_count": null,
   "metadata": {},
   "outputs": [],
   "source": [
    "# Members of cv2.xfeatures2d\n",
    "dir(cv2.xfeatures2d)"
   ]
  },
  {
   "cell_type": "markdown",
   "metadata": {},
   "source": [
    "# Extract SIFT features from an image"
   ]
  },
  {
   "cell_type": "markdown",
   "metadata": {},
   "source": [
    "## 1. SIFT detector"
   ]
  },
  {
   "cell_type": "code",
   "execution_count": null,
   "metadata": {},
   "outputs": [],
   "source": [
    "# Convert image color(BGR->Grayscale)\n",
    "gray = cv2.cvtColor(beaver, cv2.COLOR_BGR2GRAY)\n",
    "# You can convert the image when calling cv2.imread()\n",
    "# gray = cv2.imread('./beaver.png', cv2.IMREAD_GRAYSCALE)\n",
    "\n",
    "print(str(beaver.shape) + \" => \" + str(gray.shape))\n",
    "plt.imshow(gray, cmap='gray')"
   ]
  },
  {
   "cell_type": "code",
   "execution_count": null,
   "metadata": {},
   "outputs": [],
   "source": [
    "# SIFT feature detector/descriptor\n",
    "sift = cv2.xfeatures2d.SIFT_create()"
   ]
  },
  {
   "cell_type": "code",
   "execution_count": null,
   "metadata": {},
   "outputs": [],
   "source": [
    "# SIFT feature detection\n",
    "start_time = time.time()\n",
    "kp = sift.detect(gray, None) # 2nd pos argument is a mask indicating a part of image to be searched in\n",
    "#kp = sift.detect(beaver, None) # 2nd pos argument is a mask indicating a part of image to be searched in\n",
    "print('Elapsed time: %.6fs' % (time.time() - start_time))"
   ]
  },
  {
   "cell_type": "code",
   "execution_count": null,
   "metadata": {},
   "outputs": [],
   "source": [
    "# Display the SIFT features\n",
    "beaver_sift = cv2.drawKeypoints(beaver, kp, None)\n",
    "plt.imshow(cv2.cvtColor(beaver_sift, cv2.COLOR_BGR2RGB))"
   ]
  },
  {
   "cell_type": "code",
   "execution_count": null,
   "metadata": {},
   "outputs": [],
   "source": [
    "# Display the rich SIFT features\n",
    "beaver_sift2 = cv2.drawKeypoints(beaver, kp, None, flags=cv2.DRAW_MATCHES_FLAGS_DRAW_RICH_KEYPOINTS)\n",
    "plt.imshow(cv2.cvtColor(beaver_sift2, cv2.COLOR_BGR2RGB))"
   ]
  },
  {
   "cell_type": "code",
   "execution_count": null,
   "metadata": {},
   "outputs": [],
   "source": [
    "# Inspect the keypoints\n",
    "print(type(kp))\n",
    "print(len(kp))"
   ]
  },
  {
   "cell_type": "code",
   "execution_count": null,
   "metadata": {},
   "outputs": [],
   "source": [
    "print(type(kp[0]))\n",
    "print(dir(kp[0]))"
   ]
  },
  {
   "cell_type": "code",
   "execution_count": null,
   "metadata": {},
   "outputs": [],
   "source": [
    "# A keypoint's property\n",
    "# kp is sorted by scale of the keypoints\n",
    "print(kp[-1].angle) # Orientation\n",
    "print(kp[-1].class_id)\n",
    "print(kp[-1].octave)\n",
    "print(kp[-1].pt) # Position\n",
    "print(kp[-1].response)\n",
    "print(kp[-1].size) # Scale"
   ]
  },
  {
   "cell_type": "markdown",
   "metadata": {},
   "source": [
    "## 2. Extract SIFT descriptor"
   ]
  },
  {
   "cell_type": "code",
   "execution_count": null,
   "metadata": {},
   "outputs": [],
   "source": [
    "# Extract SIFT feature from the (gray) image and detected keypoints\n",
    "start_time = time.time()\n",
    "kp, des = sift.compute(gray, kp)\n",
    "print('Elapsed time: %.6fs' % (time.time() - start_time))\n",
    "\n",
    "# SIFT keypoints and descriptors at the same time\n",
    "# start_time = time.time()\n",
    "# kp, des = sift.detectAndCompute(gray, None)\n",
    "# print('Elapsed time: %.6fs' % (time.time() - start_time))"
   ]
  },
  {
   "cell_type": "code",
   "execution_count": null,
   "metadata": {},
   "outputs": [],
   "source": [
    "# Inspect the descriptors\n",
    "print(type(des))\n",
    "print(des.shape)\n",
    "print(des.dtype)"
   ]
  },
  {
   "cell_type": "code",
   "execution_count": null,
   "metadata": {},
   "outputs": [],
   "source": [
    "print(len(des[0, :]))\n",
    "print(des[0, :])"
   ]
  },
  {
   "cell_type": "markdown",
   "metadata": {},
   "source": [
    "---\n",
    "\n",
    "# Feature Matching"
   ]
  },
  {
   "cell_type": "markdown",
   "metadata": {},
   "source": [
    "## 1. SIFT Feature Matching"
   ]
  },
  {
   "cell_type": "code",
   "execution_count": null,
   "metadata": {},
   "outputs": [],
   "source": [
    "# Open and show images\n",
    "img1 = cv2.imread('./box.png')\n",
    "img2 = cv2.imread('./box_in_scene.png')\n",
    "\n",
    "plt.subplot(1, 2, 1)\n",
    "plt.imshow(cv2.cvtColor(img1, cv2.COLOR_BGR2RGB))\n",
    "plt.subplot(1, 2, 2)\n",
    "plt.imshow(cv2.cvtColor(img2, cv2.COLOR_BGR2RGB))"
   ]
  },
  {
   "cell_type": "code",
   "execution_count": null,
   "metadata": {},
   "outputs": [],
   "source": [
    "# SIFT feature extracting\n",
    "sift = cv2.xfeatures2d.SIFT_create()\n",
    "gray1 = cv2.cvtColor(img1, cv2.COLOR_BGR2GRAY)\n",
    "gray2 = cv2.cvtColor(img2, cv2.COLOR_BGR2GRAY)\n",
    "\n",
    "start_time = time.time()\n",
    "kp1, des1 = sift.detectAndCompute(gray1, None)\n",
    "kp2, des2 = sift.detectAndCompute(gray2, None)\n",
    "print('Elapsed time: %.6fs' % (time.time() - start_time))\n",
    "\n",
    "print('Image 1 - %d feature detected' % des1.shape[0])\n",
    "print('Image 2 - %d feature detected' % des2.shape[0])"
   ]
  },
  {
   "cell_type": "code",
   "execution_count": null,
   "metadata": {},
   "outputs": [],
   "source": [
    "# BFMatcher(Brute Force Matcher) with defalut setting\n",
    "bf = cv2.BFMatcher(cv2.NORM_L2)\n",
    "matches = bf.knnMatch(des1, des2, k=2)\n",
    "print('%d matches' % len(matches))"
   ]
  },
  {
   "cell_type": "code",
   "execution_count": null,
   "metadata": {},
   "outputs": [],
   "source": [
    "# Inspect matcher results\n",
    "print(type(matches))\n",
    "print(len(matches))\n",
    "print(type(matches[0]))\n",
    "print(len(matches[0]))  # Number of match candidate = k"
   ]
  },
  {
   "cell_type": "code",
   "execution_count": null,
   "metadata": {},
   "outputs": [],
   "source": [
    "print(type(matches[0][0]))\n",
    "print(dir(matches[0][0]))"
   ]
  },
  {
   "cell_type": "code",
   "execution_count": null,
   "metadata": {},
   "outputs": [],
   "source": [
    "print(matches[0][0].distance)\n",
    "print(matches[0][0].queryIdx)\n",
    "print(matches[0][0].trainIdx)\n",
    "print(matches[0][0].imgIdx)\n",
    "print(matches[0][1].distance)\n",
    "print(matches[0][1].queryIdx)\n",
    "print(matches[0][1].trainIdx)\n",
    "print(matches[0][1].imgIdx)"
   ]
  },
  {
   "cell_type": "code",
   "execution_count": null,
   "metadata": {},
   "outputs": [],
   "source": [
    "# Apply ratio test as in David Rowe's paper\n",
    "good_matches = []\n",
    "for m, n in matches:\n",
    "    if m.distance < 0.75 * n.distance:\n",
    "        good_matches.append(m)\n",
    "print('%d matches' % len(good_matches))"
   ]
  },
  {
   "cell_type": "code",
   "execution_count": null,
   "metadata": {},
   "outputs": [],
   "source": [
    "# Display matches\n",
    "img3 = cv2.drawMatches(img1, kp1, img2, kp2, good_matches, None)\n",
    "plt.imshow(cv2.cvtColor(img3, cv2.COLOR_BGR2RGB))"
   ]
  }
 ],
 "metadata": {
  "kernelspec": {
   "display_name": "Python 3",
   "language": "python",
   "name": "python3"
  },
  "language_info": {
   "codemirror_mode": {
    "name": "ipython",
    "version": 3
   },
   "file_extension": ".py",
   "mimetype": "text/x-python",
   "name": "python",
   "nbconvert_exporter": "python",
   "pygments_lexer": "ipython3",
   "version": "3.6.8"
  }
 },
 "nbformat": 4,
 "nbformat_minor": 1
}
