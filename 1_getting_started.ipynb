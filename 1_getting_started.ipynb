{
 "cells": [
  {
   "cell_type": "markdown",
   "metadata": {},
   "source": [
    "# Getting Started\n",
    "\n",
    "In this notebook, we will see how to use OpenCV-Python and some basic operations of OpenCV.\n",
    "\n",
    "---\n",
    "\n",
    "# Import OpenCV-Python and other packages"
   ]
  },
  {
   "cell_type": "code",
   "execution_count": null,
   "metadata": {},
   "outputs": [],
   "source": [
    "# For python2/3 compatibility\n",
    "from __future__ import absolute_import\n",
    "from __future__ import division\n",
    "from __future__ import print_function"
   ]
  },
  {
   "cell_type": "code",
   "execution_count": null,
   "metadata": {},
   "outputs": [],
   "source": [
    "import numpy as np\n",
    "import cv2 # OpenCV-Python\n",
    "%matplotlib inline\n",
    "import matplotlib.pyplot as plt\n",
    "\n",
    "print(\"OpenCV-Python Version %s\" % cv2.__version__)"
   ]
  },
  {
   "cell_type": "code",
   "execution_count": null,
   "metadata": {},
   "outputs": [],
   "source": [
    "!wget https://raw.githubusercontent.com/bckim92/iab_practice_example/master/images/messi.jpg"
   ]
  },
  {
   "cell_type": "markdown",
   "metadata": {},
   "source": [
    "# Open/display an image"
   ]
  },
  {
   "cell_type": "code",
   "execution_count": null,
   "metadata": {},
   "outputs": [],
   "source": [
    "img = cv2.imread('./messi.jpg', cv2.IMREAD_COLOR)\n",
    "\n",
    "# If the image path is wrong, the resulting img will be none\n",
    "if img is None:\n",
    "    print('Open Error')\n",
    "else:\n",
    "    print('Image Loaded')"
   ]
  },
  {
   "cell_type": "code",
   "execution_count": null,
   "metadata": {},
   "outputs": [],
   "source": [
    "# Check the resulting img\n",
    "print(type(img))\n",
    "print(img.shape) # H, W, C\n",
    "print(img.dtype)\n",
    "print(img[:2, :2, :])  # Right-upper-most few pixels of the image"
   ]
  },
  {
   "cell_type": "code",
   "execution_count": null,
   "metadata": {},
   "outputs": [],
   "source": [
    "# display an image using matplotlib\n",
    "# plt.imshow(img) # => The color of this line is wrong\n",
    "plt.imshow(cv2.cvtColor(img, cv2.COLOR_BGR2RGB))"
   ]
  },
  {
   "cell_type": "markdown",
   "metadata": {},
   "source": [
    "# Basic operations on Images\n",
    "## 1. Draw an object\n",
    "\n",
    "- `cv2.line(image, startPoint, endPoint, rgb, thickness)`\n",
    "- `cv2.rectangle(image, topLeft, bottomRight, rgb, thickness)`\n",
    "- `cv2.circle(image, center, radius, rgb, thickness)`\n",
    "- `cv2.ellipse(image, center, axes, angle, startAngle, endAngle, rgb, thickness)`"
   ]
  },
  {
   "cell_type": "code",
   "execution_count": null,
   "metadata": {},
   "outputs": [],
   "source": [
    "# Create a black image\n",
    "img2 = np.zeros((512,512,3), np.uint8)\n",
    "plt.imshow(img2)"
   ]
  },
  {
   "cell_type": "code",
   "execution_count": null,
   "metadata": {},
   "outputs": [],
   "source": [
    "# Draw a line using cv2.line(image, startPoint, endPoint, rgb, thickness)\n",
    "cv2.line(img2, (0,0), (511,511), (255,0,0), 5)\n",
    "# => Diagonal red line with thickness of 5 px\n",
    "\n",
    "# Draw a rectangle using cv2.rectangle(image, topLeft, bottomRight, rgb, thickness)\n",
    "cv2.rectangle(img2, (384,0), (510,128), (0,255,0), 3)\n",
    "# => Green rectangle with thickness of 3 px\n",
    "\n",
    "# Draw a circle using cv2.circle(image, center, radius, rgb, thickness)\n",
    "cv2.circle(img2, (447,63), 63, (0,0,255), -1)\n",
    "# => Blue filled circle(note that the thickness is -1)\n",
    "\n",
    "# Draw a ellipse using cv2.ellipse(image, center, axes, angle, startAngle, endAngle, rgb, thickness)\n",
    "cv2.ellipse(img2, (256,256), (100,50), -45, 0, 180, (255,0,0), -1)\n",
    "# => Red wide down-half ellipse\n",
    "\n",
    "plt.imshow(img2)"
   ]
  },
  {
   "cell_type": "code",
   "execution_count": null,
   "metadata": {},
   "outputs": [],
   "source": [
    "# Draw a line using cv2.polylines(image, points, isClosed, rgb, thickness, lineType, shift)\n",
    "pts = np.array([[10,10],[150,200],[300,150],[200,50]], np.int32)\n",
    "pts = pts.reshape((-1,1,2))\n",
    "cv2.polylines(img2,[pts],True,(0,255,255),3)\n",
    "# => Cyan closed quadrangle \n",
    "\n",
    "print(pts)\n",
    "plt.imshow(img2)"
   ]
  },
  {
   "cell_type": "code",
   "execution_count": null,
   "metadata": {},
   "outputs": [],
   "source": [
    "# Put some text using cv2.putText(image, text, bottomLeft, fontType, fontScale, rgb, thickness, lineType)\n",
    "font = cv2.FONT_HERSHEY_SIMPLEX\n",
    "cv2.putText(img2, 'OpenCV', (10,500), font, 4, (255,255,255), 5, cv2.LINE_AA)\n",
    "# => White 'OpenCV' text at the bottom\n",
    "\n",
    "plt.imshow(img2)"
   ]
  },
  {
   "cell_type": "markdown",
   "metadata": {},
   "source": [
    "---\n",
    "\n",
    "## 2. Modify pixels & ROI\n",
    "\n",
    "- You can access/modify a single pixel or ROI using Numpy indexing.\n",
    "- Just like matrix indexing, `img[a, b]` refer to `a`-th row and `b`-th column."
   ]
  },
  {
   "cell_type": "code",
   "execution_count": null,
   "metadata": {},
   "outputs": [],
   "source": [
    "# Access a pixel value(BGR order)\n",
    "img[50, 235]"
   ]
  },
  {
   "cell_type": "code",
   "execution_count": null,
   "metadata": {},
   "outputs": [],
   "source": [
    "# Change pixel values\n",
    "for i in range(5):\n",
    "    for j in range(5):\n",
    "        img[50+i, 235+j] = (0, 255, 0)\n",
    "# => Green dot above messi's head\n",
    "\n",
    "plt.imshow(cv2.cvtColor(img, cv2.COLOR_BGR2RGB))"
   ]
  },
  {
   "cell_type": "code",
   "execution_count": null,
   "metadata": {},
   "outputs": [],
   "source": [
    "# ROI is obtained using Numpy indexing \n",
    "ball = img[280:340, 330:390]\n",
    "img[273:333, 100:160] = ball\n",
    "\n",
    "# img[50:55, 235:240] = (0, 255, 0)  # The for-loop in the code block above is equavalent to this line. \n",
    "\n",
    "plt.imshow(cv2.cvtColor(img, cv2.COLOR_BGR2RGB))"
   ]
  },
  {
   "cell_type": "markdown",
   "metadata": {},
   "source": [
    "# Exercises\n",
    "## 1. Try to create the bounding box and label using drawing functions available in OpenCV\n",
    "\n",
    "<img src=\"./images/prac_1.png\" width=\"400\">"
   ]
  },
  {
   "cell_type": "code",
   "execution_count": null,
   "metadata": {},
   "outputs": [],
   "source": [
    "img = cv2.imread('./messi.jpg', cv2.IMREAD_COLOR)\n",
    "new_img = cv2.cvtColor(img.copy(), cv2.COLOR_BGR2RGB)\n",
    "\n",
    "# Your code here\n",
    "\n",
    "plt.imshow(new_img)"
   ]
  },
  {
   "cell_type": "markdown",
   "metadata": {},
   "source": [
    "---\n",
    "\n",
    "### Reference\n",
    "\n",
    "Please see the following official tutorials for more detailed explanation.\n",
    "\n",
    " - [Basic Operations on Images — OpenCV documentation](http://docs.opencv.org/3.0-beta/doc/py_tutorials/py_core/py_basic_ops/py_basic_ops.html)\n",
    " - [Drawing Functions in OpenCV — OpenCV documentation](http://docs.opencv.org/3.0-beta/doc/py_tutorials/py_gui/py_drawing_functions/py_drawing_functions.html)"
   ]
  }
 ],
 "metadata": {
  "kernelspec": {
   "display_name": "Python 3",
   "language": "python",
   "name": "python3"
  },
  "language_info": {
   "codemirror_mode": {
    "name": "ipython",
    "version": 3
   },
   "file_extension": ".py",
   "mimetype": "text/x-python",
   "name": "python",
   "nbconvert_exporter": "python",
   "pygments_lexer": "ipython3",
   "version": "3.6.8"
  }
 },
 "nbformat": 4,
 "nbformat_minor": 1
}
